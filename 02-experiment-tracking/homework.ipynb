{
 "cells": [
  {
   "cell_type": "markdown",
   "metadata": {},
   "source": [
    "### Question 1"
   ]
  },
  {
   "cell_type": "code",
   "execution_count": 1,
   "metadata": {},
   "outputs": [
    {
     "name": "stdout",
     "output_type": "stream",
     "text": [
      "mlflow, version 2.22.0\n"
     ]
    }
   ],
   "source": [
    "!mlflow --version"
   ]
  },
  {
   "cell_type": "markdown",
   "metadata": {},
   "source": [
    "### Question 2"
   ]
  },
  {
   "cell_type": "code",
   "execution_count": 6,
   "metadata": {},
   "outputs": [
    {
     "name": "stdout",
     "output_type": "stream",
     "text": [
      "--2024-05-27 20:55:04--  https://d37ci6vzurychx.cloudfront.net/trip-data/green_tripdata_2023-01.parquet\n",
      "Resolving d37ci6vzurychx.cloudfront.net (d37ci6vzurychx.cloudfront.net)... 13.32.192.2, 13.32.192.116, 13.32.192.124, ...\n",
      "Connecting to d37ci6vzurychx.cloudfront.net (d37ci6vzurychx.cloudfront.net)|13.32.192.2|:443... connected.\n",
      "HTTP request sent, awaiting response... 200 OK\n",
      "Length: 1427002 (1.4M) [binary/octet-stream]\n",
      "Saving to: ‘./data/green_tripdata_2023-01.parquet’\n",
      "\n",
      "./data/green_tripda 100%[===================>]   1.36M  --.-KB/s    in 0.02s   \n",
      "\n",
      "2024-05-27 20:55:05 (74.1 MB/s) - ‘./data/green_tripdata_2023-01.parquet’ saved [1427002/1427002]\n",
      "\n",
      "--2024-05-27 20:55:05--  https://d37ci6vzurychx.cloudfront.net/trip-data/green_tripdata_2023-02.parquet\n",
      "Resolving d37ci6vzurychx.cloudfront.net (d37ci6vzurychx.cloudfront.net)... 13.32.192.2, 13.32.192.124, 13.32.192.116, ...\n",
      "Connecting to d37ci6vzurychx.cloudfront.net (d37ci6vzurychx.cloudfront.net)|13.32.192.2|:443... connected.\n",
      "HTTP request sent, awaiting response... 200 OK\n",
      "Length: 1533740 (1.5M) [binary/octet-stream]\n",
      "Saving to: ‘./data/green_tripdata_2023-02.parquet’\n",
      "\n",
      "./data/green_tripda 100%[===================>]   1.46M  --.-KB/s    in 0.01s   \n",
      "\n",
      "2024-05-27 20:55:05 (97.6 MB/s) - ‘./data/green_tripdata_2023-02.parquet’ saved [1533740/1533740]\n",
      "\n",
      "--2024-05-27 20:55:05--  https://d37ci6vzurychx.cloudfront.net/trip-data/green_tripdata_2023-03.parquet\n",
      "Resolving d37ci6vzurychx.cloudfront.net (d37ci6vzurychx.cloudfront.net)... 13.32.192.124, 13.32.192.2, 13.32.192.190, ...\n",
      "Connecting to d37ci6vzurychx.cloudfront.net (d37ci6vzurychx.cloudfront.net)|13.32.192.124|:443... connected.\n",
      "HTTP request sent, awaiting response... 200 OK\n",
      "Length: 1730999 (1.7M) [binary/octet-stream]\n",
      "Saving to: ‘./data/green_tripdata_2023-03.parquet’\n",
      "\n",
      "./data/green_tripda 100%[===================>]   1.65M  --.-KB/s    in 0.02s   \n",
      "\n",
      "2024-05-27 20:55:05 (88.9 MB/s) - ‘./data/green_tripdata_2023-03.parquet’ saved [1730999/1730999]\n",
      "\n"
     ]
    }
   ],
   "source": [
    "!wget https://d37ci6vzurychx.cloudfront.net/trip-data/green_tripdata_2023-01.parquet -O ./data/green_tripdata_2023-01.parquet\n",
    "!wget https://d37ci6vzurychx.cloudfront.net/trip-data/green_tripdata_2023-02.parquet -O ./data/green_tripdata_2023-02.parquet\n",
    "!wget https://d37ci6vzurychx.cloudfront.net/trip-data/green_tripdata_2023-03.parquet -O ./data/green_tripdata_2023-03.parquet"
   ]
  },
  {
   "cell_type": "markdown",
   "metadata": {},
   "source": [
    "4 files were output to the output file after running preprocess_data.py\n",
    "- dv.pkl\n",
    "- test.pkl\n",
    "- train.pkl\n",
    "- val.pkl"
   ]
  },
  {
   "cell_type": "markdown",
   "metadata": {},
   "source": [
    "### Question 3"
   ]
  },
  {
   "cell_type": "code",
   "execution_count": 7,
   "metadata": {},
   "outputs": [],
   "source": [
    "import pickle\n",
    "\n",
    "def load_pickle(filename: str):\n",
    "    with open(filename, \"rb\") as f_in:\n",
    "        return pickle.load(f_in)"
   ]
  },
  {
   "cell_type": "code",
   "execution_count": 17,
   "metadata": {},
   "outputs": [],
   "source": [
    "X_train, y_train = load_pickle(\"./output/train.pkl\")\n",
    "X_val, y_val = load_pickle(\"./output/val.pkl\")\n",
    "X_test, y_test = load_pickle(\"./output/test.pkl\")"
   ]
  },
  {
   "cell_type": "code",
   "execution_count": 9,
   "metadata": {},
   "outputs": [],
   "source": [
    "from sklearn.ensemble import RandomForestRegressor\n",
    "from sklearn.metrics import root_mean_squared_error\n",
    "import mlflow "
   ]
  },
  {
   "cell_type": "code",
   "execution_count": null,
   "metadata": {},
   "outputs": [
    {
     "name": "stderr",
     "output_type": "stream",
     "text": [
      "2025/05/19 00:30:48 INFO mlflow.tracking.fluent: Autologging successfully enabled for sklearn.\n"
     ]
    }
   ],
   "source": [
    "\n",
    "mlflow.set_tracking_uri(\"sqlite:///mlflow.db\")\n",
    "mlflow.set_experiment(\"nyc-taxi-experiment\")\n",
    "\n",
    "mlflow.autolog()\n",
    "\n",
    "with mlflow.start_run():\n",
    "    rf = RandomForestRegressor(max_depth=10, random_state=42)\n",
    "    rf.fit(X_train, y_train)\n",
    "    y_pred = rf.predict(X_val)\n",
    "\n",
    "    rmse = root_mean_squared_error(y_val, y_pred)"
   ]
  },
  {
   "cell_type": "markdown",
   "metadata": {},
   "source": [
    "### Question 4"
   ]
  },
  {
   "cell_type": "markdown",
   "metadata": {},
   "source": [
    "This is the command for launching a tracking server, with a sqlite DB for backend store and a artifacts folder for the artifacts store: \n",
    "\n",
    "`mlflow server --backend-store-uri sqlite:///mlflow.db --default-artifact-root ./artifacts`"
   ]
  },
  {
   "cell_type": "markdown",
   "metadata": {},
   "source": [
    "### Question 5"
   ]
  },
  {
   "cell_type": "code",
   "execution_count": 39,
   "metadata": {},
   "outputs": [],
   "source": [
    "from hyperopt import STATUS_OK, Trials, fmin, hp, tpe   \n",
    "\n",
    "def objective(params):\n",
    "        with mlflow.start_run():\n",
    "                mlflow.set_tag(\"model\", \"xgboost\")\n",
    "                mlflow.log_params(params)\n",
    "\n",
    "                rf = RandomForestRegressor(**params)\n",
    "                rf.fit(X_train, y_train)\n",
    "                y_pred = rf.predict(X_val)\n",
    "                rmse = root_mean_squared_error(y_val, y_pred)\n",
    "                mlflow.log_metric(\"rmse\", rmse)\n",
    "\n",
    "        return {'loss': rmse, 'status': STATUS_OK}\n"
   ]
  },
  {
   "cell_type": "code",
   "execution_count": 40,
   "metadata": {},
   "outputs": [],
   "source": [
    "from hyperopt.pyll import scope\n",
    "search_space = {\n",
    "        'max_depth': scope.int(hp.quniform('max_depth', 1, 20, 1)),\n",
    "        'n_estimators': scope.int(hp.quniform('n_estimators', 10, 50, 1)),\n",
    "        'min_samples_split': scope.int(hp.quniform('min_samples_split', 2, 10, 1)),\n",
    "        'min_samples_leaf': scope.int(hp.quniform('min_samples_leaf', 1, 4, 1)),\n",
    "        'random_state': 42\n",
    "    }"
   ]
  },
  {
   "cell_type": "code",
   "execution_count": null,
   "metadata": {},
   "outputs": [
    {
     "name": "stdout",
     "output_type": "stream",
     "text": [
      "  0%|          | 0/15 [00:00<?, ?trial/s, best loss=?]"
     ]
    }
   ],
   "source": [
    "import numpy as np \n",
    "mlflow.set_experiment(\"random-forest-hyperopt\")\n",
    "\n",
    "rstate = np.random.default_rng(42)  # for reproducible results\n",
    "\n",
    "fmin(\n",
    "        fn=objective,\n",
    "        space=search_space,\n",
    "        algo=tpe.suggest,\n",
    "        max_evals=15,\n",
    "        trials=Trials(),\n",
    "        rstate=rstate\n",
    "    )"
   ]
  },
  {
   "cell_type": "markdown",
   "metadata": {},
   "source": [
    "### Question 6"
   ]
  },
  {
   "cell_type": "code",
   "execution_count": 13,
   "metadata": {},
   "outputs": [],
   "source": [
    "from mlflow.tracking import MlflowClient\n",
    "client = MlflowClient() \n"
   ]
  },
  {
   "cell_type": "code",
   "execution_count": 15,
   "metadata": {},
   "outputs": [],
   "source": [
    "experiment = client.get_experiment_by_name(\"random-forest-hyperopt\")"
   ]
  },
  {
   "cell_type": "code",
   "execution_count": 25,
   "metadata": {},
   "outputs": [],
   "source": [
    "hopt_best_runs = client.search_runs(\n",
    "    experiment_ids=experiment.experiment_id,\n",
    "    filter_string=\"\",\n",
    "    run_view_type=mlflow.entities.ViewType.ACTIVE_ONLY,\n",
    "    max_results=5,\n",
    "    order_by=[\"metrics.rmse ASC\"]\n",
    ")"
   ]
  },
  {
   "cell_type": "code",
   "execution_count": 33,
   "metadata": {},
   "outputs": [
    {
     "name": "stderr",
     "output_type": "stream",
     "text": [
      "2025/05/20 17:35:54 INFO mlflow.tracking.fluent: Autologging successfully enabled for sklearn.\n"
     ]
    },
    {
     "name": "stdout",
     "output_type": "stream",
     "text": [
      "Run ID: 81125942d9234d5c85487dbca5e01ead\n",
      "Parameters: {'max_depth': '19', 'min_samples_leaf': '2', 'min_samples_split': '2', 'n_estimators': '11', 'random_state': '42'}\n",
      "Train RMSE: 5.567408012462019\n",
      "Run ID: a036ef09c6154e158944fb1ba94f67c4\n",
      "Parameters: {'max_depth': '15', 'min_samples_leaf': '2', 'min_samples_split': '3', 'n_estimators': '40', 'random_state': '42'}\n",
      "Train RMSE: 5.58531221803063\n",
      "Run ID: a2043acaa5fb45a39e43464324f6ab24\n",
      "Parameters: {'max_depth': '14', 'min_samples_leaf': '3', 'min_samples_split': '4', 'n_estimators': '26', 'random_state': '42'}\n",
      "Train RMSE: 5.589460017934324\n",
      "Run ID: 83f7991303d548c1aeee521d50a25fd9\n",
      "Parameters: {'max_depth': '20', 'min_samples_leaf': '1', 'min_samples_split': '9', 'n_estimators': '19', 'random_state': '42'}\n",
      "Train RMSE: 5.5921322796760755\n",
      "Run ID: 007e8f577fd542ff9441f1df431cc7d3\n",
      "Parameters: {'max_depth': '14', 'min_samples_leaf': '2', 'min_samples_split': '6', 'n_estimators': '23', 'random_state': '42'}\n",
      "Train RMSE: 5.5941605655803635\n"
     ]
    }
   ],
   "source": [
    "mlflow.set_experiment(\"random-forest-best-models\")\n",
    "mlflow.autolog()\n",
    "\n",
    "for run in hopt_best_runs:\n",
    "    with mlflow.start_run():\n",
    "    \n",
    "        print(f\"Run ID: {run.info.run_id}\")\n",
    "        print(f\"Parameters: {run.data.params}\")\n",
    "        print(f\"Train RMSE: {run.data.metrics['rmse']}\")\n",
    "        \n",
    "        model_params = {}\n",
    "        for param in run.data.params:\n",
    "            # Convert to int if it's a string representation of an int\n",
    "            model_params[param] = int(run.data.params[param])\n",
    "\n",
    "        model = RandomForestRegressor(**model_params)\n",
    "        model.fit(X_train, y_train)\n",
    "\n",
    "        val_rmse = root_mean_squared_error(y_val, model.predict(X_val))\n",
    "        mlflow.log_metric(\"val_rmse\", val_rmse)\n",
    "\n",
    "        test_rmse = root_mean_squared_error(y_test, model.predict(X_test))\n",
    "        mlflow.log_metric(\"test_rmse\", test_rmse)   \n",
    "    "
   ]
  },
  {
   "cell_type": "code",
   "execution_count": 34,
   "metadata": {},
   "outputs": [],
   "source": [
    "best_model_experiment = client.get_experiment_by_name(\"random-forest-best-models\")"
   ]
  },
  {
   "cell_type": "code",
   "execution_count": 36,
   "metadata": {},
   "outputs": [],
   "source": [
    "best_test_rmse_run = client.search_runs(\n",
    "    experiment_ids=best_model_experiment.experiment_id,\n",
    "    filter_string=\"\",\n",
    "    run_view_type=mlflow.entities.ViewType.ACTIVE_ONLY,\n",
    "    max_results=1,\n",
    "    order_by=[\"metrics.test_rmse ASC\"]\n",
    ")"
   ]
  },
  {
   "cell_type": "code",
   "execution_count": null,
   "metadata": {},
   "outputs": [
    {
     "name": "stderr",
     "output_type": "stream",
     "text": [
      "Successfully registered model 'nyc-taxi-tuned-regressor-model'.\n",
      "Created version '1' of model 'nyc-taxi-tuned-regressor-model'.\n"
     ]
    },
    {
     "data": {
      "text/plain": [
       "<ModelVersion: aliases=[], creation_timestamp=1747777902845, current_stage='None', description=None, last_updated_timestamp=1747777902845, name='nyc-taxi-tuned-regressor-model', run_id='c5ce4c987c684e7cb228030d236e7f1a', run_link=None, source='file:///c:/Users/khanm375/Documents/mlops/02-experiment-tracking/mlruns/4/c5ce4c987c684e7cb228030d236e7f1a/artifacts/model', status='READY', status_message=None, tags={}, user_id=None, version=1>"
      ]
     },
     "execution_count": 37,
     "metadata": {},
     "output_type": "execute_result"
    }
   ],
   "source": [
    "mlflow.register_model(\n",
    "    f\"runs:/{best_test_rmse_run[0].info.run_id}/model\",\n",
    "    \"nyc-taxi-tuned-regressor-model\"\n",
    ")"
   ]
  },
  {
   "cell_type": "code",
   "execution_count": 38,
   "metadata": {},
   "outputs": [],
   "source": [
    "client.set_registered_model_alias(name=\"nyc-taxi-tuned-regressor-model\", alias=\"Production\", version=1)"
   ]
  },
  {
   "cell_type": "code",
   "execution_count": null,
   "metadata": {},
   "outputs": [],
   "source": []
  }
 ],
 "metadata": {
  "kernelspec": {
   "display_name": "venv",
   "language": "python",
   "name": "python3"
  },
  "language_info": {
   "codemirror_mode": {
    "name": "ipython",
    "version": 3
   },
   "file_extension": ".py",
   "mimetype": "text/x-python",
   "name": "python",
   "nbconvert_exporter": "python",
   "pygments_lexer": "ipython3",
   "version": "3.11.3"
  }
 },
 "nbformat": 4,
 "nbformat_minor": 2
}
