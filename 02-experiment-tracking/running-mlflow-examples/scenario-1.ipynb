{
 "cells": [
  {
   "cell_type": "markdown",
   "id": "890174f2",
   "metadata": {},
   "source": [
    "# Scenario 1 : 1 data scientist participating in ML competition\n",
    "\n",
    "MLFlow setup:\n",
    "- Tracking server: No\n",
    "- Backend Store: Local filesystem\n",
    "- Artifacts Store: Local filesystem\n",
    "\n",
    "The experiments can be explored locally by launcing MLFlow UI"
   ]
  },
  {
   "cell_type": "code",
   "execution_count": 1,
   "id": "e97458e7",
   "metadata": {},
   "outputs": [],
   "source": [
    "import mlflow"
   ]
  },
  {
   "cell_type": "code",
   "execution_count": 2,
   "id": "57f30d60",
   "metadata": {},
   "outputs": [
    {
     "name": "stdout",
     "output_type": "stream",
     "text": [
      "tracking URI: file:///c:/Users/khanm375/Documents/mlops/02-experiment-tracking/running-mlflow-examples/mlruns\n"
     ]
    }
   ],
   "source": [
    "print(f\"tracking URI: {mlflow.get_tracking_uri()}\")"
   ]
  },
  {
   "cell_type": "code",
   "execution_count": 4,
   "id": "483c5a79",
   "metadata": {},
   "outputs": [
    {
     "data": {
      "text/plain": [
       "[<Experiment: artifact_location='file:///c:/Users/khanm375/Documents/mlops/02-experiment-tracking/running-mlflow-examples/mlruns/0', creation_time=1747433220851, experiment_id='0', last_update_time=1747433220851, lifecycle_stage='active', name='Default', tags={}>]"
      ]
     },
     "execution_count": 4,
     "metadata": {},
     "output_type": "execute_result"
    }
   ],
   "source": [
    "mlflow.search_experiments()"
   ]
  },
  {
   "cell_type": "markdown",
   "id": "acbfa0c3",
   "metadata": {},
   "source": [
    "## Creating an experiment and logging a new run"
   ]
  },
  {
   "cell_type": "code",
   "execution_count": 8,
   "id": "e8ba4035",
   "metadata": {},
   "outputs": [
    {
     "name": "stderr",
     "output_type": "stream",
     "text": [
      "2025/05/16 18:53:42 WARNING mlflow.models.model: Model logged without a signature and input example. Please set `input_example` parameter when logging the model to auto infer the model signature.\n"
     ]
    },
    {
     "name": "stdout",
     "output_type": "stream",
     "text": [
      "default artifacts URI: 'file:///c:/Users/khanm375/Documents/mlops/02-experiment-tracking/running-mlflow-examples/mlruns/969916679191763615/f5fe6df1e00a40c58b60fb60df343eb0/artifacts'\n"
     ]
    }
   ],
   "source": [
    "from sklearn.linear_model import LogisticRegression\n",
    "from sklearn.datasets import load_iris\n",
    "from sklearn.metrics import accuracy_score \n",
    "\n",
    "mlflow.set_experiment(\"my-experiment-1\")\n",
    "\n",
    "with mlflow.start_run():\n",
    "\n",
    "    X, y = load_iris(return_X_y=True)\n",
    "\n",
    "    params = {\"C\": 0.1, \"random_state\": 42}\n",
    "    mlflow.log_params(params)\n",
    "\n",
    "    lr = LogisticRegression(**params).fit(X, y) \n",
    "    y_pred = lr.predict(X)\n",
    "    mlflow.log_metric(\"accuracy\", accuracy_score(y, y_pred))\n",
    "\n",
    "    mlflow.sklearn.log_model(lr, artifact_path=\"models\")\n",
    "\n",
    "    print(f\"default artifacts URI: '{mlflow.get_artifact_uri()}'\") "
   ]
  },
  {
   "cell_type": "code",
   "execution_count": 7,
   "id": "0dbd9b2e",
   "metadata": {},
   "outputs": [
    {
     "data": {
      "text/plain": [
       "[<Experiment: artifact_location='file:///c:/Users/khanm375/Documents/mlops/02-experiment-tracking/running-mlflow-examples/mlruns/969916679191763615', creation_time=1747435873798, experiment_id='969916679191763615', last_update_time=1747435873798, lifecycle_stage='active', name='my-experiment-1', tags={}>,\n",
       " <Experiment: artifact_location='file:///c:/Users/khanm375/Documents/mlops/02-experiment-tracking/running-mlflow-examples/mlruns/0', creation_time=1747433220851, experiment_id='0', last_update_time=1747433220851, lifecycle_stage='active', name='Default', tags={}>]"
      ]
     },
     "execution_count": 7,
     "metadata": {},
     "output_type": "execute_result"
    }
   ],
   "source": [
    "mlflow.search_experiments()"
   ]
  },
  {
   "cell_type": "markdown",
   "id": "41cd23ce",
   "metadata": {},
   "source": [
    "## Interacting with the model registry"
   ]
  },
  {
   "cell_type": "code",
   "execution_count": 9,
   "id": "e761180c",
   "metadata": {},
   "outputs": [],
   "source": [
    "from mlflow.tracking import MlflowClient\n",
    "\n",
    "client = MlflowClient()"
   ]
  },
  {
   "cell_type": "code",
   "execution_count": 11,
   "id": "0cba2cff",
   "metadata": {},
   "outputs": [],
   "source": [
    "from mlflow.exceptions import MlflowException\n",
    "\n",
    "client.search_registered_models()\n",
    "\n",
    "try:\n",
    "    client.search_registered_models()\n",
    "except MlflowException:\n",
    "    print('Its not possible to access model registry because the tracking server is not configured to use a backend store that supports it.')"
   ]
  },
  {
   "cell_type": "markdown",
   "id": "8ae5f9b8",
   "metadata": {},
   "source": []
  }
 ],
 "metadata": {
  "kernelspec": {
   "display_name": "venv",
   "language": "python",
   "name": "python3"
  },
  "language_info": {
   "codemirror_mode": {
    "name": "ipython",
    "version": 3
   },
   "file_extension": ".py",
   "mimetype": "text/x-python",
   "name": "python",
   "nbconvert_exporter": "python",
   "pygments_lexer": "ipython3",
   "version": "3.11.3"
  }
 },
 "nbformat": 4,
 "nbformat_minor": 5
}
